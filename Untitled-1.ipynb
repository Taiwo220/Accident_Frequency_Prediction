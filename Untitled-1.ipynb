{
 "cells": [
  {
   "cell_type": "code",
   "execution_count": 110,
   "metadata": {},
   "outputs": [],
   "source": [
    "#libraries\n",
    "import numpy as np\n",
    "import pandas as pd\n",
    "import matplotlib.pyplot as plt\n",
    "%matplotlib inline\n",
    "import seaborn as sns\n",
    "from sklearn.model_selection import train_test_split\n",
    "from sklearn.preprocessing import LabelEncoder\n",
    "from sklearn.ensemble import RandomForestRegressor,AdaBoostRegressor\n",
    "from sklearn.metrics import r2_score\n",
    "from sklearn import metrics\n",
    "import math\n",
    "import hydroeval as he\n",
    "import os\n",
    "from sklearn import linear_model"
   ]
  },
  {
   "cell_type": "code",
   "execution_count": 111,
   "metadata": {},
   "outputs": [],
   "source": [
    "file_path=r'C:\\Users\\info\\Desktop\\Taiwo Folder\\Python codes\\Predict Accident Frequency\\Accident_Frequency_Prediction\\Accident_dataset.xlsx'\n",
    "df=pd.read_excel(file_path)"
   ]
  },
  {
   "cell_type": "code",
   "execution_count": 112,
   "metadata": {},
   "outputs": [],
   "source": [
    "df=df.drop(columns='Unnamed: 7')"
   ]
  },
  {
   "cell_type": "code",
   "execution_count": 113,
   "metadata": {},
   "outputs": [
    {
     "data": {
      "text/html": [
       "<div>\n",
       "<style scoped>\n",
       "    .dataframe tbody tr th:only-of-type {\n",
       "        vertical-align: middle;\n",
       "    }\n",
       "\n",
       "    .dataframe tbody tr th {\n",
       "        vertical-align: top;\n",
       "    }\n",
       "\n",
       "    .dataframe thead th {\n",
       "        text-align: right;\n",
       "    }\n",
       "</style>\n",
       "<table border=\"1\" class=\"dataframe\">\n",
       "  <thead>\n",
       "    <tr style=\"text-align: right;\">\n",
       "      <th></th>\n",
       "      <th>DISTANCE</th>\n",
       "      <th>LOCATION</th>\n",
       "      <th>ACCIDENT FREQUENCY</th>\n",
       "      <th>AVERAGE DAILY TRAFFIC</th>\n",
       "      <th>SHOULDER</th>\n",
       "      <th>PAVEMENT</th>\n",
       "      <th>MEDIAN</th>\n",
       "    </tr>\n",
       "  </thead>\n",
       "  <tbody>\n",
       "    <tr>\n",
       "      <th>0</th>\n",
       "      <td>KM 129</td>\n",
       "      <td>ORIENTAL</td>\n",
       "      <td>6</td>\n",
       "      <td>3480</td>\n",
       "      <td>2.8</td>\n",
       "      <td>12.0</td>\n",
       "      <td>5.4</td>\n",
       "    </tr>\n",
       "    <tr>\n",
       "      <th>1</th>\n",
       "      <td>KM19</td>\n",
       "      <td>OREMEJI</td>\n",
       "      <td>2</td>\n",
       "      <td>3480</td>\n",
       "      <td>2.8</td>\n",
       "      <td>12.0</td>\n",
       "      <td>5.4</td>\n",
       "    </tr>\n",
       "    <tr>\n",
       "      <th>2</th>\n",
       "      <td>KM 123</td>\n",
       "      <td>QUARRY</td>\n",
       "      <td>14</td>\n",
       "      <td>3480</td>\n",
       "      <td>1.0</td>\n",
       "      <td>12.0</td>\n",
       "      <td>5.4</td>\n",
       "    </tr>\n",
       "    <tr>\n",
       "      <th>3</th>\n",
       "      <td>KM 125</td>\n",
       "      <td>GURUMARAJI</td>\n",
       "      <td>17</td>\n",
       "      <td>3480</td>\n",
       "      <td>1.0</td>\n",
       "      <td>12.0</td>\n",
       "      <td>5.4</td>\n",
       "    </tr>\n",
       "    <tr>\n",
       "      <th>4</th>\n",
       "      <td>KM 127</td>\n",
       "      <td>DOMINION</td>\n",
       "      <td>20</td>\n",
       "      <td>3480</td>\n",
       "      <td>1.0</td>\n",
       "      <td>12.0</td>\n",
       "      <td>5.4</td>\n",
       "    </tr>\n",
       "  </tbody>\n",
       "</table>\n",
       "</div>"
      ],
      "text/plain": [
       "  DISTANCE    LOCATION  ACCIDENT FREQUENCY  AVERAGE DAILY TRAFFIC  SHOULDER  \\\n",
       "0   KM 129    ORIENTAL                   6                   3480       2.8   \n",
       "1     KM19     OREMEJI                   2                   3480       2.8   \n",
       "2   KM 123      QUARRY                  14                   3480       1.0   \n",
       "3   KM 125  GURUMARAJI                  17                   3480       1.0   \n",
       "4   KM 127    DOMINION                  20                   3480       1.0   \n",
       "\n",
       "   PAVEMENT  MEDIAN  \n",
       "0      12.0     5.4  \n",
       "1      12.0     5.4  \n",
       "2      12.0     5.4  \n",
       "3      12.0     5.4  \n",
       "4      12.0     5.4  "
      ]
     },
     "execution_count": 113,
     "metadata": {},
     "output_type": "execute_result"
    }
   ],
   "source": [
    "df.head(5)"
   ]
  },
  {
   "cell_type": "code",
   "execution_count": 114,
   "metadata": {},
   "outputs": [
    {
     "name": "stdout",
     "output_type": "stream",
     "text": [
      "<class 'pandas.core.frame.DataFrame'>\n",
      "RangeIndex: 28 entries, 0 to 27\n",
      "Data columns (total 7 columns):\n",
      " #   Column                 Non-Null Count  Dtype  \n",
      "---  ------                 --------------  -----  \n",
      " 0   DISTANCE               28 non-null     object \n",
      " 1   LOCATION               28 non-null     object \n",
      " 2   ACCIDENT FREQUENCY     28 non-null     int64  \n",
      " 3   AVERAGE DAILY TRAFFIC  28 non-null     int64  \n",
      " 4   SHOULDER               28 non-null     float64\n",
      " 5   PAVEMENT               28 non-null     float64\n",
      " 6   MEDIAN                 28 non-null     float64\n",
      "dtypes: float64(3), int64(2), object(2)\n",
      "memory usage: 1.7+ KB\n"
     ]
    }
   ],
   "source": [
    "df.info()"
   ]
  },
  {
   "cell_type": "code",
   "execution_count": 115,
   "metadata": {},
   "outputs": [
    {
     "data": {
      "text/plain": [
       "array(['KM 129', 'KM19', 'KM 123', 'KM 125', 'KM 127', 'KM 94', 'KM 115',\n",
       "       'KM 10', 'KM 8', 'KM 124', 'KM 122', 'KM 132', 'KM 16', 'KM 126',\n",
       "       'KM 25', 'KM 6', 'KM 7', 'KM 120', 'KM 11', 'KM 112', 'KM 21',\n",
       "       'KM 128', 'KM 100', 'KM 118', 'KM 121', 'KM 2', 'KM 30'],\n",
       "      dtype=object)"
      ]
     },
     "execution_count": 115,
     "metadata": {},
     "output_type": "execute_result"
    }
   ],
   "source": [
    "df['DISTANCE'].unique()"
   ]
  },
  {
   "cell_type": "code",
   "execution_count": 116,
   "metadata": {},
   "outputs": [],
   "source": [
    "#CLeaning distance Column\n",
    "df['DISTANCE']=df['DISTANCE'].str.replace('KM','').str.strip()\n",
    "df['DISTANCE']=df['DISTANCE'].astype('int')"
   ]
  },
  {
   "cell_type": "code",
   "execution_count": 118,
   "metadata": {},
   "outputs": [
    {
     "data": {
      "text/html": [
       "<div>\n",
       "<style scoped>\n",
       "    .dataframe tbody tr th:only-of-type {\n",
       "        vertical-align: middle;\n",
       "    }\n",
       "\n",
       "    .dataframe tbody tr th {\n",
       "        vertical-align: top;\n",
       "    }\n",
       "\n",
       "    .dataframe thead th {\n",
       "        text-align: right;\n",
       "    }\n",
       "</style>\n",
       "<table border=\"1\" class=\"dataframe\">\n",
       "  <thead>\n",
       "    <tr style=\"text-align: right;\">\n",
       "      <th></th>\n",
       "      <th>DISTANCE</th>\n",
       "      <th>ACCIDENT FREQUENCY</th>\n",
       "      <th>AVERAGE DAILY TRAFFIC</th>\n",
       "      <th>SHOULDER</th>\n",
       "      <th>PAVEMENT</th>\n",
       "      <th>MEDIAN</th>\n",
       "    </tr>\n",
       "  </thead>\n",
       "  <tbody>\n",
       "    <tr>\n",
       "      <th>count</th>\n",
       "      <td>28.000000</td>\n",
       "      <td>28.000000</td>\n",
       "      <td>28.000000</td>\n",
       "      <td>28.000000</td>\n",
       "      <td>28.000000</td>\n",
       "      <td>28.000000</td>\n",
       "    </tr>\n",
       "    <tr>\n",
       "      <th>mean</th>\n",
       "      <td>74.857143</td>\n",
       "      <td>4.928571</td>\n",
       "      <td>3994.285714</td>\n",
       "      <td>2.503571</td>\n",
       "      <td>10.164286</td>\n",
       "      <td>5.492857</td>\n",
       "    </tr>\n",
       "    <tr>\n",
       "      <th>std</th>\n",
       "      <td>53.651630</td>\n",
       "      <td>4.898439</td>\n",
       "      <td>1265.930864</td>\n",
       "      <td>1.005718</td>\n",
       "      <td>2.458577</td>\n",
       "      <td>0.108623</td>\n",
       "    </tr>\n",
       "    <tr>\n",
       "      <th>min</th>\n",
       "      <td>2.000000</td>\n",
       "      <td>1.000000</td>\n",
       "      <td>2490.000000</td>\n",
       "      <td>1.000000</td>\n",
       "      <td>8.000000</td>\n",
       "      <td>5.400000</td>\n",
       "    </tr>\n",
       "    <tr>\n",
       "      <th>25%</th>\n",
       "      <td>18.250000</td>\n",
       "      <td>2.000000</td>\n",
       "      <td>3480.000000</td>\n",
       "      <td>1.225000</td>\n",
       "      <td>8.000000</td>\n",
       "      <td>5.400000</td>\n",
       "    </tr>\n",
       "    <tr>\n",
       "      <th>50%</th>\n",
       "      <td>106.000000</td>\n",
       "      <td>3.000000</td>\n",
       "      <td>3480.000000</td>\n",
       "      <td>3.000000</td>\n",
       "      <td>8.300000</td>\n",
       "      <td>5.500000</td>\n",
       "    </tr>\n",
       "    <tr>\n",
       "      <th>75%</th>\n",
       "      <td>123.250000</td>\n",
       "      <td>6.250000</td>\n",
       "      <td>4680.000000</td>\n",
       "      <td>3.000000</td>\n",
       "      <td>12.000000</td>\n",
       "      <td>5.500000</td>\n",
       "    </tr>\n",
       "    <tr>\n",
       "      <th>max</th>\n",
       "      <td>132.000000</td>\n",
       "      <td>20.000000</td>\n",
       "      <td>5940.000000</td>\n",
       "      <td>4.000000</td>\n",
       "      <td>15.000000</td>\n",
       "      <td>5.800000</td>\n",
       "    </tr>\n",
       "  </tbody>\n",
       "</table>\n",
       "</div>"
      ],
      "text/plain": [
       "         DISTANCE  ACCIDENT FREQUENCY  AVERAGE DAILY TRAFFIC   SHOULDER  \\\n",
       "count   28.000000           28.000000              28.000000  28.000000   \n",
       "mean    74.857143            4.928571            3994.285714   2.503571   \n",
       "std     53.651630            4.898439            1265.930864   1.005718   \n",
       "min      2.000000            1.000000            2490.000000   1.000000   \n",
       "25%     18.250000            2.000000            3480.000000   1.225000   \n",
       "50%    106.000000            3.000000            3480.000000   3.000000   \n",
       "75%    123.250000            6.250000            4680.000000   3.000000   \n",
       "max    132.000000           20.000000            5940.000000   4.000000   \n",
       "\n",
       "        PAVEMENT     MEDIAN  \n",
       "count  28.000000  28.000000  \n",
       "mean   10.164286   5.492857  \n",
       "std     2.458577   0.108623  \n",
       "min     8.000000   5.400000  \n",
       "25%     8.000000   5.400000  \n",
       "50%     8.300000   5.500000  \n",
       "75%    12.000000   5.500000  \n",
       "max    15.000000   5.800000  "
      ]
     },
     "execution_count": 118,
     "metadata": {},
     "output_type": "execute_result"
    }
   ],
   "source": [
    "df.describe()"
   ]
  },
  {
   "cell_type": "code",
   "execution_count": 119,
   "metadata": {},
   "outputs": [],
   "source": [
    "#Highest Accident Frequency by location\n",
    "df['ACCIDENT FREQUENCY']=df['ACCIDENT FREQUENCY'].sort_values()\n",
    "top_accident_frequency =df.sort_values(by='ACCIDENT FREQUENCY').tail(6)\n"
   ]
  },
  {
   "cell_type": "code",
   "execution_count": 120,
   "metadata": {},
   "outputs": [
    {
     "data": {
      "text/plain": [
       "Text(0.5, 1.0, 'Highest Accident Frequency by Location')"
      ]
     },
     "execution_count": 120,
     "metadata": {},
     "output_type": "execute_result"
    },
    {
     "data": {
      "image/png": "[encoded data removed]",
      "text/plain": [
       "<Figure size 700x400 with 1 Axes>"
      ]
     },
     "metadata": {},
     "output_type": "display_data"
    }
   ],
   "source": [
    "plt.figure(figsize=(7,4))\n",
    "sns.barplot(top_accident_frequency , x='LOCATION',y='ACCIDENT FREQUENCY', color='red')\n",
    "plt.title('Highest Accident Frequency by Location')"
   ]
  },
  {
   "cell_type": "code",
   "execution_count": 124,
   "metadata": {},
   "outputs": [
    {
     "data": {
      "text/html": [
       "<div>\n",
       "<style scoped>\n",
       "    .dataframe tbody tr th:only-of-type {\n",
       "        vertical-align: middle;\n",
       "    }\n",
       "\n",
       "    .dataframe tbody tr th {\n",
       "        vertical-align: top;\n",
       "    }\n",
       "\n",
       "    .dataframe thead th {\n",
       "        text-align: right;\n",
       "    }\n",
       "</style>\n",
       "<table border=\"1\" class=\"dataframe\">\n",
       "  <thead>\n",
       "    <tr style=\"text-align: right;\">\n",
       "      <th></th>\n",
       "      <th>DISTANCE</th>\n",
       "      <th>LOCATION</th>\n",
       "      <th>ACCIDENT FREQUENCY</th>\n",
       "      <th>AVERAGE DAILY TRAFFIC</th>\n",
       "      <th>SHOULDER</th>\n",
       "      <th>PAVEMENT</th>\n",
       "      <th>MEDIAN</th>\n",
       "    </tr>\n",
       "  </thead>\n",
       "  <tbody>\n",
       "    <tr>\n",
       "      <th>27</th>\n",
       "      <td>30</td>\n",
       "      <td>BAT COMPANY</td>\n",
       "      <td>1</td>\n",
       "      <td>5940</td>\n",
       "      <td>1.3</td>\n",
       "      <td>12.0</td>\n",
       "      <td>5.4</td>\n",
       "    </tr>\n",
       "    <tr>\n",
       "      <th>25</th>\n",
       "      <td>121</td>\n",
       "      <td>KARA</td>\n",
       "      <td>1</td>\n",
       "      <td>5940</td>\n",
       "      <td>3.0</td>\n",
       "      <td>15.0</td>\n",
       "      <td>5.7</td>\n",
       "    </tr>\n",
       "    <tr>\n",
       "      <th>23</th>\n",
       "      <td>25</td>\n",
       "      <td>GUSTAB</td>\n",
       "      <td>1</td>\n",
       "      <td>5940</td>\n",
       "      <td>3.0</td>\n",
       "      <td>8.0</td>\n",
       "      <td>5.5</td>\n",
       "    </tr>\n",
       "    <tr>\n",
       "      <th>26</th>\n",
       "      <td>2</td>\n",
       "      <td>EAGLE FLOUR</td>\n",
       "      <td>1</td>\n",
       "      <td>5940</td>\n",
       "      <td>3.0</td>\n",
       "      <td>15.0</td>\n",
       "      <td>5.7</td>\n",
       "    </tr>\n",
       "    <tr>\n",
       "      <th>12</th>\n",
       "      <td>16</td>\n",
       "      <td>SEKO</td>\n",
       "      <td>1</td>\n",
       "      <td>4260</td>\n",
       "      <td>3.0</td>\n",
       "      <td>8.0</td>\n",
       "      <td>5.5</td>\n",
       "    </tr>\n",
       "  </tbody>\n",
       "</table>\n",
       "</div>"
      ],
      "text/plain": [
       "    DISTANCE     LOCATION  ACCIDENT FREQUENCY  AVERAGE DAILY TRAFFIC  \\\n",
       "27        30  BAT COMPANY                   1                   5940   \n",
       "25       121         KARA                   1                   5940   \n",
       "23        25       GUSTAB                   1                   5940   \n",
       "26         2  EAGLE FLOUR                   1                   5940   \n",
       "12        16         SEKO                   1                   4260   \n",
       "\n",
       "    SHOULDER  PAVEMENT  MEDIAN  \n",
       "27       1.3      12.0     5.4  \n",
       "25       3.0      15.0     5.7  \n",
       "23       3.0       8.0     5.5  \n",
       "26       3.0      15.0     5.7  \n",
       "12       3.0       8.0     5.5  "
      ]
     },
     "execution_count": 124,
     "metadata": {},
     "output_type": "execute_result"
    }
   ],
   "source": [
    "#Lowest Accident Frequency by location\n",
    "df['ACCIDENT FREQUENCY']=df['ACCIDENT FREQUENCY'].sort_values()\n",
    "lowest_accident_frequency =df.sort_values(by='ACCIDENT FREQUENCY').head(5)\n",
    "lowest_accident_frequency\n"
   ]
  },
  {
   "cell_type": "code",
   "execution_count": 122,
   "metadata": {},
   "outputs": [
    {
     "data": {
      "text/plain": [
       "Text(0.5, 1.0, 'Lowest Accident Frequency by Location')"
      ]
     },
     "execution_count": 122,
     "metadata": {},
     "output_type": "execute_result"
    },
    {
     "data": {
      "image/png": "[encoded data removed]",
      "text/plain": [
       "<Figure size 700x400 with 1 Axes>"
      ]
     },
     "metadata": {},
     "output_type": "display_data"
    }
   ],
   "source": [
    "plt.figure(figsize=(7,4))\n",
    "sns.barplot(lowest_accident_frequency, x='LOCATION',y='ACCIDENT FREQUENCY', color='red')\n",
    "plt.title('Lowest Accident Frequency by Location')"
   ]
  },
  {
   "cell_type": "code",
   "execution_count": 14,
   "metadata": {},
   "outputs": [],
   "source": [
    "#Scaling Average Daily Traffic\n",
    "max_traffic=df['AVERAGE DAILY TRAFFIC'].max()\n",
    "df['AVERAGE DAILY TRAFFIC']=df['AVERAGE DAILY TRAFFIC']/max_traffic"
   ]
  },
  {
   "cell_type": "code",
   "execution_count": 15,
   "metadata": {},
   "outputs": [],
   "source": [
    "#Scaling Average Distance\n",
    "max_distance=df['DISTANCE'].max()\n",
    "df['AVERAGE DAILY TRAFFIC']=df['AVERAGE DAILY TRAFFIC']/max_distance"
   ]
  },
  {
   "cell_type": "code",
   "execution_count": 16,
   "metadata": {},
   "outputs": [
    {
     "data": {
      "text/html": [
       "<div>\n",
       "<style scoped>\n",
       "    .dataframe tbody tr th:only-of-type {\n",
       "        vertical-align: middle;\n",
       "    }\n",
       "\n",
       "    .dataframe tbody tr th {\n",
       "        vertical-align: top;\n",
       "    }\n",
       "\n",
       "    .dataframe thead th {\n",
       "        text-align: right;\n",
       "    }\n",
       "</style>\n",
       "<table border=\"1\" class=\"dataframe\">\n",
       "  <thead>\n",
       "    <tr style=\"text-align: right;\">\n",
       "      <th></th>\n",
       "      <th>DISTANCE</th>\n",
       "      <th>ACCIDENT FREQUENCY</th>\n",
       "      <th>AVERAGE DAILY TRAFFIC</th>\n",
       "      <th>SHOULDER</th>\n",
       "      <th>PAVEMENT</th>\n",
       "      <th>MEDIAN</th>\n",
       "      <th>LOCATION_encoded</th>\n",
       "    </tr>\n",
       "  </thead>\n",
       "  <tbody>\n",
       "    <tr>\n",
       "      <th>0</th>\n",
       "      <td>129</td>\n",
       "      <td>6</td>\n",
       "      <td>0.004438</td>\n",
       "      <td>2.8</td>\n",
       "      <td>12.0</td>\n",
       "      <td>5.4</td>\n",
       "      <td>19</td>\n",
       "    </tr>\n",
       "    <tr>\n",
       "      <th>1</th>\n",
       "      <td>19</td>\n",
       "      <td>2</td>\n",
       "      <td>0.004438</td>\n",
       "      <td>2.8</td>\n",
       "      <td>12.0</td>\n",
       "      <td>5.4</td>\n",
       "      <td>18</td>\n",
       "    </tr>\n",
       "    <tr>\n",
       "      <th>2</th>\n",
       "      <td>123</td>\n",
       "      <td>14</td>\n",
       "      <td>0.004438</td>\n",
       "      <td>1.0</td>\n",
       "      <td>12.0</td>\n",
       "      <td>5.4</td>\n",
       "      <td>20</td>\n",
       "    </tr>\n",
       "    <tr>\n",
       "      <th>3</th>\n",
       "      <td>125</td>\n",
       "      <td>17</td>\n",
       "      <td>0.004438</td>\n",
       "      <td>1.0</td>\n",
       "      <td>12.0</td>\n",
       "      <td>5.4</td>\n",
       "      <td>9</td>\n",
       "    </tr>\n",
       "    <tr>\n",
       "      <th>4</th>\n",
       "      <td>127</td>\n",
       "      <td>20</td>\n",
       "      <td>0.004438</td>\n",
       "      <td>1.0</td>\n",
       "      <td>12.0</td>\n",
       "      <td>5.4</td>\n",
       "      <td>6</td>\n",
       "    </tr>\n",
       "  </tbody>\n",
       "</table>\n",
       "</div>"
      ],
      "text/plain": [
       "   DISTANCE  ACCIDENT FREQUENCY  AVERAGE DAILY TRAFFIC  SHOULDER  PAVEMENT  \\\n",
       "0       129                   6               0.004438       2.8      12.0   \n",
       "1        19                   2               0.004438       2.8      12.0   \n",
       "2       123                  14               0.004438       1.0      12.0   \n",
       "3       125                  17               0.004438       1.0      12.0   \n",
       "4       127                  20               0.004438       1.0      12.0   \n",
       "\n",
       "   MEDIAN  LOCATION_encoded  \n",
       "0     5.4                19  \n",
       "1     5.4                18  \n",
       "2     5.4                20  \n",
       "3     5.4                 9  \n",
       "4     5.4                 6  "
      ]
     },
     "execution_count": 16,
     "metadata": {},
     "output_type": "execute_result"
    }
   ],
   "source": [
    "#Encoding Location\n",
    "label_encoder=LabelEncoder()\n",
    "df['LOCATION_encoded']=label_encoder.fit_transform(df['LOCATION'])\n",
    "df=df.drop(columns='LOCATION')\n",
    "df.head(5)"
   ]
  },
  {
   "cell_type": "code",
   "execution_count": 17,
   "metadata": {},
   "outputs": [],
   "source": [
    "target='ACCIDENT FREQUENCY'\n",
    "y=df[target]\n",
    "X=df.drop(columns=target)"
   ]
  },
  {
   "cell_type": "code",
   "execution_count": 68,
   "metadata": {},
   "outputs": [
    {
     "name": "stdout",
     "output_type": "stream",
     "text": [
      "(19, 6)\n",
      "(19,)\n",
      "(9, 6)\n",
      "(9,)\n"
     ]
    },
    {
     "data": {
      "text/plain": [
       "(None, None)"
      ]
     },
     "execution_count": 68,
     "metadata": {},
     "output_type": "execute_result"
    }
   ],
   "source": [
    "# Split the data into training and testing sets\n",
    "X_train, X_test, y_train, y_test = train_test_split(X, y, test_size=0.3, random_state=8, shuffle=True)\n",
    "print(X_train.shape), print(y_train.shape)\n",
    "print(X_test.shape), print(y_test.shape)"
   ]
  },
  {
   "cell_type": "code",
   "execution_count": 69,
   "metadata": {},
   "outputs": [],
   "source": [
    "X_train.to_csv(r\"C:\\Users\\info\\Desktop\\Taiwo Folder\\Python codes\\Predict Accident Frequency\\Accident_Frequency_Prediction\\x_train.csv\", index=False)\n",
    "y_train.to_csv(r\"C:\\Users\\info\\Desktop\\Taiwo Folder\\Python codes\\Predict Accident Frequency\\Accident_Frequency_Prediction\\y_train.csv\", index=False)\n",
    "X_test.to_csv(r\"C:\\Users\\info\\Desktop\\Taiwo Folder\\Python codes\\Predict Accident Frequency\\Accident_Frequency_Prediction\\x_test.csv\", index=False)\n",
    "y_test.to_csv(r\"C:\\Users\\info\\Desktop\\Taiwo Folder\\Python codes\\Predict Accident Frequency\\Accident_Frequency_Prediction\\y_test.csv\", index=False)"
   ]
  },
  {
   "cell_type": "code",
   "execution_count": 70,
   "metadata": {},
   "outputs": [],
   "source": [
    "os.chdir(r\"C:\\Users\\info\\Desktop\\Taiwo Folder\\Python codes\\Predict Accident Frequency\\Accident_Frequency_Prediction\")\n",
    "os.getcwd()\n",
    "\n",
    "X_train=pd.read_csv('x_train.csv')\n",
    "y_train=pd.read_csv('y_train.csv')\n",
    "X_test=pd.read_csv('x_test.csv')\n",
    "y_test=pd.read_csv('y_test.csv')"
   ]
  },
  {
   "cell_type": "code",
   "execution_count": 71,
   "metadata": {},
   "outputs": [],
   "source": [
    "X_train = X_train.loc[:, ~X_train.columns.str.contains('^Unnamed')]\n",
    "y_train = y_train.loc[:, ~y_train.columns.str.contains('^Unnamed')]\n",
    "X_test =  X_test.loc [:, ~X_test.columns.str.contains('^Unnamed')]\n",
    "y_test =  y_test.loc [:, ~y_test.columns.str.contains('^Unnamed')]"
   ]
  },
  {
   "cell_type": "code",
   "execution_count": 72,
   "metadata": {},
   "outputs": [
    {
     "name": "stdout",
     "output_type": "stream",
     "text": [
      "Training_set\n",
      "MAE: 0.978421052631579\n",
      "MSE: 1.3050578947368423\n",
      "RMSE: 1.14239130543647\n",
      "R_Sqd: 0.9276970687538367\n",
      "Cor: 0.9631703217779485\n",
      "NSE is: [0.89214609]\n",
      "\n",
      "Test_set\n",
      "MAE: 1.6744444444444444\n",
      "MSE: 6.818566666666666\n",
      "RMSE: 2.6112385311699633\n",
      "R_Sqd: 0.7987230685131196\n",
      "Cor: 0.8937130795244744\n",
      "NSE is: [0.53196957]\n"
     ]
    },
    {
     "name": "stderr",
     "output_type": "stream",
     "text": [
      "C:\\Users\\info\\AppData\\Local\\Packages\\PythonSoftwareFoundation.Python.3.11_qbz5n2kfra8p0\\LocalCache\\local-packages\\Python311\\site-packages\\sklearn\\base.py:1474: DataConversionWarning: A column-vector y was passed when a 1d array was expected. Please change the shape of y to (n_samples,), for example using ravel().\n",
      "  return fit_method(estimator, *args, **kwargs)\n",
      "C:\\Users\\info\\AppData\\Local\\Packages\\PythonSoftwareFoundation.Python.3.11_qbz5n2kfra8p0\\LocalCache\\local-packages\\Python311\\site-packages\\sklearn\\base.py:1474: DataConversionWarning: A column-vector y was passed when a 1d array was expected. Please change the shape of y to (n_samples,), for example using ravel().\n",
      "  return fit_method(estimator, *args, **kwargs)\n"
     ]
    }
   ],
   "source": [
    "# Initialize the Random Forest regressor\n",
    "model_RF = RandomForestRegressor()\n",
    "\n",
    "# Fit the model to the training data\n",
    "model_RF.fit(X_train, y_train)\n",
    "y_pred_train=model_RF.predict(X_train)\n",
    "\n",
    "print('Training_set')\n",
    "print('MAE:',metrics.mean_absolute_error(y_train,y_pred_train))\n",
    "print('MSE:',metrics.mean_squared_error(y_train,y_pred_train))\n",
    "print('RMSE:',np.sqrt(metrics.mean_squared_error(y_train,y_pred_train)))\n",
    "print('R_Sqd:',r2_score(y_train,y_pred_train))\n",
    "print('Cor:',math.sqrt(r2_score(y_train,y_pred_train)))\n",
    "print ('NSE is:', he.evaluator(he.nse, y_train, y_pred_train))\n",
    "\n",
    "# Fit the model to the test data\n",
    "model_RF.fit(X_test, y_test)\n",
    "y_pred_test=model_RF.predict(X_test)\n",
    "print('')\n",
    "print('Test_set')\n",
    "print('MAE:',metrics.mean_absolute_error(y_test,y_pred_test))\n",
    "print('MSE:',metrics.mean_squared_error(y_test,y_pred_test))\n",
    "print('RMSE:',np.sqrt(metrics.mean_squared_error(y_test,y_pred_test)))\n",
    "print('R_Sqd:',r2_score(y_test,y_pred_test))\n",
    "print('Cor:',math.sqrt(r2_score(y_test,y_pred_test)))\n",
    "print ('NSE is:', he.evaluator(he.nse,y_test,y_pred_test))\n",
    "\n",
    "\n",
    "\n",
    "\n"
   ]
  },
  {
   "cell_type": "code",
   "execution_count": 73,
   "metadata": {},
   "outputs": [],
   "source": [
    "#For Train set(RandomForestRegressor)\n",
    "yy=y_train.values\n",
    "yy=yy.transpose()\n",
    "yy=yy[0]\n",
    "txt= {'Pred':y_pred_train, 'Obs':yy}\n",
    "txt=pd.DataFrame(txt)\n",
    "txt.columns =['Pred', 'Obs']\n",
    "txt.to_csv(r\"C:\\Users\\info\\Desktop\\Taiwo Folder\\Python codes\\Predict Accident Frequency\\Accident_Frequency_Prediction\\RF_train.csv\", index=False)\n",
    "\n",
    "\n",
    "\n",
    "#Test Set(RandomForestRegressor)\n",
    "yy=y_test.values\n",
    "yy=yy.transpose()\n",
    "yy=yy[0]\n",
    "txt= {'Pred':y_pred_test, 'Obs':yy}\n",
    "txt=pd.DataFrame(txt)\n",
    "txt.columns =['Pred', 'Obs']\n",
    "txt.to_csv(r\"C:\\Users\\info\\Desktop\\Taiwo Folder\\Python codes\\Predict Accident Frequency\\Accident_Frequency_Prediction\\RF_test.csv\")"
   ]
  },
  {
   "cell_type": "code",
   "execution_count": 84,
   "metadata": {},
   "outputs": [
    {
     "name": "stdout",
     "output_type": "stream",
     "text": [
      "Training_set\n",
      "MAE: 1.9468065492219295\n",
      "MSE: 7.356092376682936\n",
      "RMSE: 2.7122117131011243\n",
      "R_Sqd: 0.5924571289161235\n",
      "Cor: 0.7697123676517894\n",
      "NSE is: [0.25194787]\n",
      "\n",
      "Test_set\n",
      "MAE: 1.5506518554361481\n",
      "MSE: 3.832644876828616\n",
      "RMSE: 1.957714196921659\n",
      "R_Sqd: 0.8868643458370562\n",
      "Cor: 0.9417347534401904\n",
      "NSE is: [0.85736059]\n"
     ]
    }
   ],
   "source": [
    "# Initialize the Lasso regressor\n",
    "Lasso_reg = linear_model.Lasso(alpha=0.001,max_iter=100, tol=0.001)\n",
    "\n",
    "# Fit the model to the training data\n",
    "Lasso_reg.fit(X_train, y_train)\n",
    "y_pred_train=Lasso_reg.predict(X_train)\n",
    "\n",
    "print('Training_set')\n",
    "print('MAE:',metrics.mean_absolute_error(y_train,y_pred_train))\n",
    "print('MSE:',metrics.mean_squared_error(y_train,y_pred_train))\n",
    "print('RMSE:',np.sqrt(metrics.mean_squared_error(y_train,y_pred_train)))\n",
    "print('R_Sqd:',r2_score(y_train,y_pred_train))\n",
    "print('Cor:',math.sqrt(r2_score(y_train,y_pred_train)))\n",
    "print ('NSE is:', he.evaluator(he.nse, y_train, y_pred_train))\n",
    "\n",
    "# Fit the model to the test data\n",
    "Lasso_reg.fit(X_test, y_test)\n",
    "y_pred_test=Lasso_reg.predict(X_test)\n",
    "print('')\n",
    "print('Test_set')\n",
    "print('MAE:',metrics.mean_absolute_error(y_test,y_pred_test))\n",
    "print('MSE:',metrics.mean_squared_error(y_test,y_pred_test))\n",
    "print('RMSE:',np.sqrt(metrics.mean_squared_error(y_test,y_pred_test)))\n",
    "print('R_Sqd:',r2_score(y_test,y_pred_test))\n",
    "print('Cor:',math.sqrt(r2_score(y_test,y_pred_test)))\n",
    "print ('NSE is:', he.evaluator(he.nse,y_test,y_pred_test))\n",
    "\n",
    "\n",
    "\n",
    "\n"
   ]
  },
  {
   "cell_type": "code",
   "execution_count": 85,
   "metadata": {},
   "outputs": [],
   "source": [
    "#For Train set(Lasso)\n",
    "yy=y_train.values\n",
    "yy=yy.transpose()\n",
    "yy=yy[0]\n",
    "txt= {'Pred':y_pred_train, 'Obs':yy}\n",
    "txt=pd.DataFrame(txt)\n",
    "txt.columns =['Pred', 'Obs']\n",
    "txt.to_csv(r\"C:\\Users\\info\\Desktop\\Taiwo Folder\\Python codes\\Predict Accident Frequency\\Accident_Frequency_Prediction\\Lasso_train.csv\", index=False)\n",
    "\n",
    "\n",
    "\n",
    "#Test Set(Lasso)\n",
    "yy=y_test.values\n",
    "yy=yy.transpose()\n",
    "yy=yy[0]\n",
    "txt= {'Pred':y_pred_test, 'Obs':yy}\n",
    "txt=pd.DataFrame(txt)\n",
    "txt.columns =['Pred', 'Obs']\n",
    "txt.to_csv(r\"C:\\Users\\info\\Desktop\\Taiwo Folder\\Python codes\\Predict Accident Frequency\\Accident_Frequency_Prediction\\Lasso_test.csv\")"
   ]
  },
  {
   "cell_type": "code",
   "execution_count": 90,
   "metadata": {},
   "outputs": [
    {
     "name": "stdout",
     "output_type": "stream",
     "text": [
      "Training_set\n",
      "MAE: 0.5226608187134502\n",
      "MSE: 0.6115273716699156\n",
      "RMSE: 0.7820021557962072\n",
      "R_Sqd: 0.9661201072478761\n",
      "Cor: 0.9829140894543511\n",
      "NSE is: [0.96277078]\n",
      "\n",
      "Test_set\n",
      "MAE: 0.1111111111111111\n",
      "MSE: 0.1111111111111111\n",
      "RMSE: 0.3333333333333333\n",
      "R_Sqd: 0.9967201166180758\n",
      "Cor: 0.9983587113948953\n",
      "NSE is: [0.99666667]\n"
     ]
    },
    {
     "name": "stderr",
     "output_type": "stream",
     "text": [
      "C:\\Users\\info\\AppData\\Local\\Packages\\PythonSoftwareFoundation.Python.3.11_qbz5n2kfra8p0\\LocalCache\\local-packages\\Python311\\site-packages\\sklearn\\utils\\validation.py:1300: DataConversionWarning: A column-vector y was passed when a 1d array was expected. Please change the shape of y to (n_samples, ), for example using ravel().\n",
      "  y = column_or_1d(y, warn=True)\n",
      "C:\\Users\\info\\AppData\\Local\\Packages\\PythonSoftwareFoundation.Python.3.11_qbz5n2kfra8p0\\LocalCache\\local-packages\\Python311\\site-packages\\sklearn\\utils\\validation.py:1300: DataConversionWarning: A column-vector y was passed when a 1d array was expected. Please change the shape of y to (n_samples, ), for example using ravel().\n",
      "  y = column_or_1d(y, warn=True)\n"
     ]
    }
   ],
   "source": [
    "# Initialize the Ridge regressor\n",
    "ABR_model = AdaBoostRegressor()\n",
    "\n",
    "# Fit the model to the training data\n",
    "ABR_model.fit(X_train, y_train)\n",
    "y_pred_train=ABR_model.predict(X_train)\n",
    "\n",
    "print('Training_set')\n",
    "print('MAE:',metrics.mean_absolute_error(y_train,y_pred_train))\n",
    "print('MSE:',metrics.mean_squared_error(y_train,y_pred_train))\n",
    "print('RMSE:',np.sqrt(metrics.mean_squared_error(y_train,y_pred_train)))\n",
    "print('R_Sqd:',r2_score(y_train,y_pred_train))\n",
    "print('Cor:',math.sqrt(r2_score(y_train,y_pred_train)))\n",
    "print ('NSE is:', he.evaluator(he.nse, y_train, y_pred_train))\n",
    "\n",
    "# Fit the model to the test data\n",
    "ABR_model.fit(X_test, y_test)\n",
    "y_pred_test=ABR_model.predict(X_test)\n",
    "print('')\n",
    "print('Test_set')\n",
    "print('MAE:',metrics.mean_absolute_error(y_test,y_pred_test))\n",
    "print('MSE:',metrics.mean_squared_error(y_test,y_pred_test))\n",
    "print('RMSE:',np.sqrt(metrics.mean_squared_error(y_test,y_pred_test)))\n",
    "print('R_Sqd:',r2_score(y_test,y_pred_test))\n",
    "print('Cor:',math.sqrt(r2_score(y_test,y_pred_test)))\n",
    "print ('NSE is:', he.evaluator(he.nse,y_test,y_pred_test))\n",
    "\n",
    "\n",
    "\n",
    "\n"
   ]
  },
  {
   "cell_type": "code",
   "execution_count": 91,
   "metadata": {},
   "outputs": [],
   "source": [
    "#For Train set(AdaBoost)\n",
    "yy=y_train.values\n",
    "yy=yy.transpose()\n",
    "yy=yy[0]\n",
    "txt= {'Pred':y_pred_train, 'Obs':yy}\n",
    "txt=pd.DataFrame(txt)\n",
    "txt.columns =['Pred', 'Obs']\n",
    "txt.to_csv(r\"C:\\Users\\info\\Desktop\\Taiwo Folder\\Python codes\\Predict Accident Frequency\\Accident_Frequency_Prediction\\AdaBoost_train.csv\", index=False)\n",
    "\n",
    "\n",
    "\n",
    "#Test Set(AdaBoost)\n",
    "yy=y_test.values\n",
    "yy=yy.transpose()\n",
    "yy=yy[0]\n",
    "txt= {'Pred':y_pred_test, 'Obs':yy}\n",
    "txt=pd.DataFrame(txt)\n",
    "txt.columns =['Pred', 'Obs']\n",
    "txt.to_csv(r\"C:\\Users\\info\\Desktop\\Taiwo Folder\\Python codes\\Predict Accident Frequency\\Accident_Frequency_Prediction\\AdaBoost_test.csv\")"
   ]
  },
  {
   "cell_type": "code",
   "execution_count": 99,
   "metadata": {},
   "outputs": [],
   "source": [
    "#Dictionary Containing R2_score for test and train set\n",
    "R2_scores_train={'RandomForest':0.92,\n",
    "'Lasso': 0.59,\n",
    "'AdaBoost':0.96}\n",
    "\n",
    "R2_scores_test={'RandomForest':0.79,\n",
    "'Lasso': 0.88,\n",
    "'AdaBoost':0.99}"
   ]
  },
  {
   "cell_type": "code",
   "execution_count": 107,
   "metadata": {},
   "outputs": [
    {
     "data": {
      "text/html": [
       "<div>\n",
       "<style scoped>\n",
       "    .dataframe tbody tr th:only-of-type {\n",
       "        vertical-align: middle;\n",
       "    }\n",
       "\n",
       "    .dataframe tbody tr th {\n",
       "        vertical-align: top;\n",
       "    }\n",
       "\n",
       "    .dataframe thead th {\n",
       "        text-align: right;\n",
       "    }\n",
       "</style>\n",
       "<table border=\"1\" class=\"dataframe\">\n",
       "  <thead>\n",
       "    <tr style=\"text-align: right;\">\n",
       "      <th></th>\n",
       "      <th>Model</th>\n",
       "      <th>R2 Score_train</th>\n",
       "      <th>R2 Score_test</th>\n",
       "    </tr>\n",
       "  </thead>\n",
       "  <tbody>\n",
       "    <tr>\n",
       "      <th>0</th>\n",
       "      <td>RandomForest</td>\n",
       "      <td>0.92</td>\n",
       "      <td>0.79</td>\n",
       "    </tr>\n",
       "    <tr>\n",
       "      <th>1</th>\n",
       "      <td>Lasso</td>\n",
       "      <td>0.59</td>\n",
       "      <td>0.88</td>\n",
       "    </tr>\n",
       "    <tr>\n",
       "      <th>2</th>\n",
       "      <td>AdaBoost</td>\n",
       "      <td>0.96</td>\n",
       "      <td>0.99</td>\n",
       "    </tr>\n",
       "  </tbody>\n",
       "</table>\n",
       "</div>"
      ],
      "text/plain": [
       "          Model  R2 Score_train  R2 Score_test\n",
       "0  RandomForest            0.92           0.79\n",
       "1         Lasso            0.59           0.88\n",
       "2      AdaBoost            0.96           0.99"
      ]
     },
     "execution_count": 107,
     "metadata": {},
     "output_type": "execute_result"
    }
   ],
   "source": [
    "#Convert the dictionary to a pandas DataFrame\n",
    "data1 = pd.DataFrame(list(R2_scores_train.items()), columns=['Model', 'R2 Score_train'])\n",
    "\n",
    "data2 = pd.DataFrame(list(R2_scores_test.items()), columns=['Model', 'R2 Score_test'])\n",
    "\n",
    "data=pd.merge(data1,data2,on='Model')\n",
    "data"
   ]
  },
  {
   "cell_type": "code",
   "execution_count": null,
   "metadata": {},
   "outputs": [],
   "source": []
  }
 ],
 "metadata": {
  "kernelspec": {
   "display_name": "Python 3",
   "language": "python",
   "name": "python3"
  },
  "language_info": {
   "codemirror_mode": {
    "name": "ipython",
    "version": 3
   },
   "file_extension": ".py",
   "mimetype": "text/x-python",
   "name": "python",
   "nbconvert_exporter": "python",
   "pygments_lexer": "ipython3",
   "version": "3.11.9"
  }
 },
 "nbformat": 4,
 "nbformat_minor": 2
}
